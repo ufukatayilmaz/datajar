{
 "cells": [
  {
   "cell_type": "markdown",
   "metadata": {},
   "source": [
    "Soru-1"
   ]
  },
  {
   "cell_type": "code",
   "execution_count": 5,
   "metadata": {},
   "outputs": [],
   "source": [
    "anapara=1000\n",
    "faiz_orani=0.12\n",
    "gun_sayisi=7"
   ]
  },
  {
   "cell_type": "code",
   "execution_count": 10,
   "metadata": {},
   "outputs": [
    {
     "name": "stdout",
     "output_type": "stream",
     "text": [
      "Anapara tutarı 1000$ 'ın günlük %12 faiz oranıyla  7 günde toplam faiz getirisi 1210.68$ 'dir.\n"
     ]
    }
   ],
   "source": [
    "toplampara=anapara*((1+faiz_orani)**7)\n",
    "faiz_kazanci=toplampara-anapara\n",
    "print(\"Anapara tutarı {}$ 'ın günlük %{:0.0f} faiz oranıyla  {} günde toplam faiz getirisi {:.2f}$ 'dir.\".format(anapara,faiz_orani*100,gun_sayisi,faiz_kazanci))"
   ]
  },
  {
   "cell_type": "markdown",
   "metadata": {},
   "source": [
    "Soru-2"
   ]
  },
  {
   "cell_type": "code",
   "execution_count": 13,
   "metadata": {},
   "outputs": [
    {
     "name": "stdout",
     "output_type": "stream",
     "text": [
      "Hafta başında 1000 dolarlık bitcoin aldığımızda ortalama %12 kazançla, bir hafta sonunda 1210.68 dolar kazanirdık.\n"
     ]
    }
   ],
   "source": [
    "anapara=1000\n",
    "faiz_orani=0.12\n",
    "kazanc=1210.68\n",
    "print(\"Hafta başında {} dolarlık bitcoin aldığımızda ortalama %{:0.0f} kazançla, bir hafta sonunda {:.2f} dolar kazanirdık.\".format(anapara,faiz_orani*100,faiz_kazanci))"
   ]
  },
  {
   "cell_type": "markdown",
   "metadata": {},
   "source": [
    "Soru-3"
   ]
  },
  {
   "cell_type": "code",
   "execution_count": 14,
   "metadata": {
    "scrolled": false
   },
   "outputs": [
    {
     "name": "stdout",
     "output_type": "stream",
     "text": [
      "Lütfen Dosya Adını Giriniz:datajarlab\n",
      "Dosya adınız: datajarlab.py\n"
     ]
    }
   ],
   "source": [
    "dosya_adi=input(\"Lütfen Dosya Adını Giriniz:\")\n",
    "dosya_adi+=\".py\"\n",
    "print(\"Dosya adınız:\",dosya_adi)"
   ]
  }
 ],
 "metadata": {
  "kernelspec": {
   "display_name": "Python 3",
   "language": "python",
   "name": "python3"
  },
  "language_info": {
   "codemirror_mode": {
    "name": "ipython",
    "version": 3
   },
   "file_extension": ".py",
   "mimetype": "text/x-python",
   "name": "python",
   "nbconvert_exporter": "python",
   "pygments_lexer": "ipython3",
   "version": "3.7.1"
  }
 },
 "nbformat": 4,
 "nbformat_minor": 2
}
