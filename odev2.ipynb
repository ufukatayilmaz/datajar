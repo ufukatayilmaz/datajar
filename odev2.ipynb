{
 "cells": [
  {
   "cell_type": "code",
   "execution_count": null,
   "metadata": {},
   "outputs": [],
   "source": [
    "SORU 1"
   ]
  },
  {
   "cell_type": "code",
   "execution_count": null,
   "metadata": {},
   "outputs": [],
   "source": [
    "haftanin_gunleri={1:'Pazartesi',\n",
    "                  2:'Sali',\n",
    "                  3:'Çarsamba',\n",
    "                  4:'Persembe',\n",
    "                  5:'Cuma',\n",
    "                  6:'Cumartesi',\n",
    "                  7:'Pazar'}"
   ]
  },
  {
   "cell_type": "code",
   "execution_count": null,
   "metadata": {},
   "outputs": [],
   "source": [
    "print(list(haftanin_gunleri.values()))"
   ]
  },
  {
   "cell_type": "code",
   "execution_count": null,
   "metadata": {},
   "outputs": [],
   "source": [
    "Henüz Metot Konusu Kullanılmadığı İçin Veri Okuma ve Veri Kontrolü Metod İle Yapılmamış bu Tekrar Veri Girişlerinde Aksaklığa Yol Açabilir"
   ]
  },
  {
   "cell_type": "code",
   "execution_count": null,
   "metadata": {},
   "outputs": [],
   "source": [
    "try:\n",
    "    a=int(input(\"Lütfen Yukarı Yazılı Günlerden 2 Tane Farklı Seçim Yapınız :\"))\n",
    "except:\n",
    "    print(\"Lütfen numerik değer giriniz. \\n\")\n",
    "    \n",
    "if(a%11==0): \n",
    "    print(\"Lütfen Farklı iki gün seçiniz. \\n\")\n",
    "    print(list(haftanin_gunleri.values()))\n",
    "    a=int(input(\"Lütfen Yukarı Yazılı Günlerden 2 Tane Farklı Seçim Yapınız :\"))\n",
    "elif(a<1 or a>77):\n",
    "    print(\"Lütfen haftanın günleri doğru giriniz. \\n\")\n",
    "    print(list(haftanin_gunleri.values()))\n",
    "    a=int(input(\"Lütfen Yukarı Yazılı Günlerden 2 Tane Farklı Seçim Yapınız :\"))\n",
    "else:\n",
    "    birincigun=(a/10)\n",
    "    ikincigun=(a%10)\n",
    "    print(\"Girilen Birinci Gun: \",haftanin_gunleri[birincigun])\n",
    "    print(\"Girilen İkinci Gun: \",haftanin_gunleri[ikincigun])\n",
    "\n",
    "\n",
    "    \n"
   ]
  },
  {
   "cell_type": "markdown",
   "metadata": {},
   "source": [
    "SORU 2"
   ]
  },
  {
   "cell_type": "code",
   "execution_count": 31,
   "metadata": {},
   "outputs": [],
   "source": [
    "ay_gun=[['Ocak',31],\n",
    "        ['Şubat',28],\n",
    "        ['Mart',31],\n",
    "        ['Nisan',30],\n",
    "        ['Mayıs',31],\n",
    "        ['Haziran',30],\n",
    "        ['Temmuz',31],\n",
    "        ['Ağustos',31],\n",
    "        ['Eylul',30],\n",
    "        ['Ekim',31],\n",
    "        ['Kasım',30],\n",
    "        ['Aralık',31]]"
   ]
  },
  {
   "cell_type": "markdown",
   "metadata": {},
   "source": [
    "SORU 3"
   ]
  },
  {
   "cell_type": "code",
   "execution_count": 39,
   "metadata": {},
   "outputs": [],
   "source": [
    "liste_ay=[]\n",
    "liste_gun=[]\n",
    "for i in range(len(ay_gun)):\n",
    "               liste_ay.append(ay_gun[i][0])\n",
    "               liste_gun.append(ay_gun[i][1])"
   ]
  },
  {
   "cell_type": "code",
   "execution_count": 40,
   "metadata": {},
   "outputs": [],
   "source": [
    "liste_ay_gun=[liste_ay,liste_gun]"
   ]
  },
  {
   "cell_type": "code",
   "execution_count": 41,
   "metadata": {},
   "outputs": [
    {
     "name": "stdout",
     "output_type": "stream",
     "text": [
      "[['Ocak', 'Şubat', 'Mart', 'Nisan', 'Mayıs', 'Haziran', 'Temmuz', 'Ağustos', 'Eylul', 'Ekim', 'Kasım', 'Aralık'], [31, 28, 31, 30, 31, 30, 31, 31, 30, 31, 30, 31]]\n"
     ]
    }
   ],
   "source": [
    "print(liste_ay_gun)\n"
   ]
  },
  {
   "cell_type": "markdown",
   "metadata": {},
   "source": [
    "SORU 4"
   ]
  },
  {
   "cell_type": "code",
   "execution_count": 42,
   "metadata": {},
   "outputs": [],
   "source": [
    "liste_yaz=['Haziran','Temmuz','Ağustos']\n",
    "liste_sonbahar=['Eylül','Ekim','Kasım']\n",
    "liste_kis=['Aralık','Ocak','Şubat']\n",
    "liste_ilkbahar=['Mart','Nisan','Mayıs']"
   ]
  },
  {
   "cell_type": "markdown",
   "metadata": {},
   "source": [
    "SORU 5"
   ]
  },
  {
   "cell_type": "code",
   "execution_count": 27,
   "metadata": {},
   "outputs": [],
   "source": [
    "guntoplam=0\n",
    "for i in range(len(liste_yaz)):\n",
    "    indis=liste_ay_gun[0].index(liste_yaz[i])\n",
    "    guntoplam+=liste_ay_gun[1][indis]  "
   ]
  },
  {
   "cell_type": "code",
   "execution_count": 29,
   "metadata": {},
   "outputs": [
    {
     "name": "stdout",
     "output_type": "stream",
     "text": [
      "Yaz Mevsimi Toplam Gun Sayısı:  92\n"
     ]
    }
   ],
   "source": [
    "print(\"Yaz Mevsimi Toplam Gun Sayısı: \",guntoplam)"
   ]
  }
 ],
 "metadata": {
  "kernelspec": {
   "display_name": "Python 3",
   "language": "python",
   "name": "python3"
  },
  "language_info": {
   "codemirror_mode": {
    "name": "ipython",
    "version": 3
   },
   "file_extension": ".py",
   "mimetype": "text/x-python",
   "name": "python",
   "nbconvert_exporter": "python",
   "pygments_lexer": "ipython3",
   "version": "3.7.1"
  }
 },
 "nbformat": 4,
 "nbformat_minor": 2
}
